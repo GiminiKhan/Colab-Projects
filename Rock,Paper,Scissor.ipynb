{
  "nbformat": 4,
  "nbformat_minor": 0,
  "metadata": {
    "colab": {
      "provenance": [],
      "authorship_tag": "ABX9TyOhWOV2LOY1N+boxjyyYeM8",
      "include_colab_link": true
    },
    "kernelspec": {
      "name": "python3",
      "display_name": "Python 3"
    },
    "language_info": {
      "name": "python"
    }
  },
  "cells": [
    {
      "cell_type": "markdown",
      "metadata": {
        "id": "view-in-github",
        "colab_type": "text"
      },
      "source": [
        "<a href=\"https://colab.research.google.com/github/GiminiKhan/Colab-Projects/blob/main/Rock%2CPaper%2CScissor.ipynb\" target=\"_parent\"><img src=\"https://colab.research.google.com/assets/colab-badge.svg\" alt=\"Open In Colab\"/></a>"
      ]
    },
    {
      "cell_type": "code",
      "execution_count": null,
      "metadata": {
        "id": "kLc6EO416dxY"
      },
      "outputs": [],
      "source": [
        "# project 4: rock, Paper, Scissors Game\n",
        "# 🪨  ✂️ 🧻\n",
        "\n",
        "import random\n",
        "\n",
        "#game choices\n",
        "choices = [\"rock\", \"paper\", \"scissors\"]\n",
        "\n",
        "#player choice\n",
        "player_choice = input(\"Enter rock, paper or scissors: \").lower()\n",
        "\n",
        "#computer choice\n",
        "computer_choice = random.choice(choices)\n",
        "\n",
        "#winner decision\n",
        "if player_choice == computer_choice:\n",
        "    print(f\"Both made the same choice {player_choice}. Its a tie!\")\n",
        "elif player_choice == \"rock\" and computer_choice == \"scissors\":\n",
        "    print(f\"Player wins! {player_choice} beats {computer_choice}.\")\n",
        "\n",
        "elif player_choice ==\"paper\" and computer_choice == \"rock\":\n",
        "    print(f\"Player wins! {player_choice} beats {computer_choice}.\")\n",
        "\n",
        "elif player_choice ==\"scissors\" and computer_choice == \"paper\":\n",
        "    print(f\"Player wins! {player_choice} beats {computer_choice}.\")\n",
        "\n",
        "else:\n",
        "    print(f\"Computer wins! {computer_choice} beats {player_choice}.\")\n",
        "\n"
      ]
    }
  ]
}