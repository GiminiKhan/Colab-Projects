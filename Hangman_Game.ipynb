{
  "nbformat": 4,
  "nbformat_minor": 0,
  "metadata": {
    "colab": {
      "provenance": [],
      "authorship_tag": "ABX9TyNjMsVy2kv/FhShIS25ZcN1",
      "include_colab_link": true
    },
    "kernelspec": {
      "name": "python3",
      "display_name": "Python 3"
    },
    "language_info": {
      "name": "python"
    }
  },
  "cells": [
    {
      "cell_type": "markdown",
      "metadata": {
        "id": "view-in-github",
        "colab_type": "text"
      },
      "source": [
        "<a href=\"https://colab.research.google.com/github/GiminiKhan/Colab-Projects/blob/root/Hangman_Game.ipynb\" target=\"_parent\"><img src=\"https://colab.research.google.com/assets/colab-badge.svg\" alt=\"Open In Colab\"/></a>"
      ]
    },
    {
      "cell_type": "code",
      "execution_count": null,
      "metadata": {
        "id": "oLUUZj866DcO"
      },
      "outputs": [],
      "source": [
        "#Project 5: Hangman Game\n",
        "import random\n",
        "words = ['enum', 'python', 'collab', 'vscode', 'game']\n",
        "\n",
        "word = random.choice(words)\n",
        "guessed_letters = []\n",
        "attempts = 6\n",
        "\n",
        "print(\"welcome to hangman game project 5\")\n",
        "print(\"_\" *len(word))\n",
        "\n",
        "while attempts > 0:\n",
        "    guess = input(\"\\n guess the letters:\").lower()\n",
        "\n",
        "    if len(guess) !=1 or not guess.isalpha():\n",
        "        print(\"write one alphabet only!\")\n",
        "        continue\n",
        "    if guess in guessed_letters:\n",
        "        print(\"This letter has already been guessed, choose another letter\")\n",
        "        continue\n",
        "    guessed_letters.append(guess)\n",
        "\n",
        "    if guess in word:\n",
        "        print (\"Correct Guess!\")\n",
        "    else:\n",
        "        attempts -= 1\n",
        "        print(f\"Wrong {attempts} attempts.\")\n",
        "\n",
        "    displayed_word = \" \".join([letter if letter in guessed_letters else \"-\" for letter in word])\n",
        "    print(displayed_word)\n",
        "\n",
        "    if \"_\" not in displayed_word:\n",
        "        print(f\"Congratulations! the correct word is: {word}\")\n",
        "        break\n",
        "    else:\n",
        "        print(\"Game Over! the correct word is: {word}\")\n"
      ]
    }
  ]
}