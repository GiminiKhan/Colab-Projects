{
  "nbformat": 4,
  "nbformat_minor": 0,
  "metadata": {
    "colab": {
      "provenance": [],
      "authorship_tag": "ABX9TyP+xOIUkF2POef5EPFCzOSf",
      "include_colab_link": true
    },
    "kernelspec": {
      "name": "python3",
      "display_name": "Python 3"
    },
    "language_info": {
      "name": "python"
    }
  },
  "cells": [
    {
      "cell_type": "markdown",
      "metadata": {
        "id": "view-in-github",
        "colab_type": "text"
      },
      "source": [
        "<a href=\"https://colab.research.google.com/github/GiminiKhan/Colab-Projects/blob/root/Count_down_timer.ipynb\" target=\"_parent\"><img src=\"https://colab.research.google.com/assets/colab-badge.svg\" alt=\"Open In Colab\"/></a>"
      ]
    },
    {
      "cell_type": "code",
      "execution_count": null,
      "metadata": {
        "id": "C4aWwUw25Zew"
      },
      "outputs": [],
      "source": [
        "#Project 6: countdown Timer in Python\n",
        "#Description: This is a count down timer that takes the time input from the user in seconds and then displays it into minutes:second format\n",
        "\n",
        "import time\n",
        "def countdown_timer(seconds):\n",
        "    while seconds > 0:\n",
        "        mins, secs = divmod(seconds, 60) # minutes and seconds will be calculated\n",
        "        time_format = '{:02d}:{:02d}'.format(mins, secs)  # MM:SS format\n",
        "        print(time_format, end='\\r')\n",
        "        time.sleep(1) # delay\n",
        "print(\"00:00 \\n Time's Up!\")\n",
        "\n",
        "#user input for time\n",
        "total_seconds = int(input(\"Enter time in second for countdown\"))\n",
        "countdown_timer(total_seconds)\n"
      ]
    }
  ]
}