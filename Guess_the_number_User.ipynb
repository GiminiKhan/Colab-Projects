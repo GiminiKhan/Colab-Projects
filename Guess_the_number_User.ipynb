{
  "nbformat": 4,
  "nbformat_minor": 0,
  "metadata": {
    "colab": {
      "provenance": [],
      "authorship_tag": "ABX9TyOk4ftgJ35pYrmlxkiCMLI6",
      "include_colab_link": true
    },
    "kernelspec": {
      "name": "python3",
      "display_name": "Python 3"
    },
    "language_info": {
      "name": "python"
    }
  },
  "cells": [
    {
      "cell_type": "markdown",
      "metadata": {
        "id": "view-in-github",
        "colab_type": "text"
      },
      "source": [
        "<a href=\"https://colab.research.google.com/github/GiminiKhan/Colab-Projects/blob/root/Guess_the_number_User.ipynb\" target=\"_parent\"><img src=\"https://colab.research.google.com/assets/colab-badge.svg\" alt=\"Open In Colab\"/></a>"
      ]
    },
    {
      "cell_type": "code",
      "execution_count": null,
      "metadata": {
        "id": "sqKp-Pem5qsA"
      },
      "outputs": [],
      "source": [
        "# project 3 - Guess the Number Game Python Project (User)\n",
        "\n",
        "import random\n",
        "print (\"Guess the number between 1 and 100!\")\n",
        "#generate randon number\n",
        "number = random.randint(1, 100)\n",
        "\n",
        "while True:\n",
        "    guess = int(input( \"Enter your guessed number:\"))\n",
        "    if guess <number:\n",
        "        print(\"Too low number!\")\n",
        "    elif guess > number:\n",
        "        print(\"Too high number!\")\n",
        "    else:\n",
        "        print(\"Congratulation You Got It Right!\")\n",
        "        break\n"
      ]
    }
  ]
}