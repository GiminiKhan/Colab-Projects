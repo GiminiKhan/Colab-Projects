{
  "nbformat": 4,
  "nbformat_minor": 0,
  "metadata": {
    "colab": {
      "provenance": [],
      "authorship_tag": "ABX9TyMxY+Dkt18hrwU7aRsTWwhe",
      "include_colab_link": true
    },
    "kernelspec": {
      "name": "python3",
      "display_name": "Python 3"
    },
    "language_info": {
      "name": "python"
    }
  },
  "cells": [
    {
      "cell_type": "markdown",
      "metadata": {
        "id": "view-in-github",
        "colab_type": "text"
      },
      "source": [
        "<a href=\"https://colab.research.google.com/github/GiminiKhan/Colab-Projects/blob/root/Password_generator.ipynb\" target=\"_parent\"><img src=\"https://colab.research.google.com/assets/colab-badge.svg\" alt=\"Open In Colab\"/></a>"
      ]
    },
    {
      "cell_type": "code",
      "execution_count": null,
      "metadata": {
        "id": "dkODutWW6SYj"
      },
      "outputs": [],
      "source": [
        "# project 7: Password Generator in Python\n",
        "\n",
        "import random\n",
        "import string\n",
        "\n",
        "def generated_password(length=12):\n",
        "    characters = string.ascii_letters + string.digits + string.punctuation\n",
        "    password = ''.join(random.choice(characters) for _ in range(length))\n",
        "    return password\n",
        "\n",
        "#user's input\n",
        "length = int(input(\"Enter the length of your desired password:\"))\n",
        "\n",
        "password = generated_password(length)\n",
        "print(\"Your Desired Generated Password:\",password)\n",
        "\n"
      ]
    }
  ]
}