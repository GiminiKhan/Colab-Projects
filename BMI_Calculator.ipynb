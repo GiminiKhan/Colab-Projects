{
  "nbformat": 4,
  "nbformat_minor": 0,
  "metadata": {
    "colab": {
      "provenance": [],
      "authorship_tag": "ABX9TyMCW1ciFEMpg54S+D27NDy5",
      "include_colab_link": true
    },
    "kernelspec": {
      "name": "python3",
      "display_name": "Python 3"
    },
    "language_info": {
      "name": "python"
    }
  },
  "cells": [
    {
      "cell_type": "markdown",
      "metadata": {
        "id": "view-in-github",
        "colab_type": "text"
      },
      "source": [
        "<a href=\"https://colab.research.google.com/github/GiminiKhan/Colab-Projects/blob/root/BMI_Calculator.ipynb\" target=\"_parent\"><img src=\"https://colab.research.google.com/assets/colab-badge.svg\" alt=\"Open In Colab\"/></a>"
      ]
    },
    {
      "cell_type": "code",
      "execution_count": null,
      "metadata": {
        "id": "DxZrQ7oN4_HL"
      },
      "outputs": [],
      "source": [
        "#Project 8: BMI Calculator\n",
        "\n",
        "import streamlit as st\n",
        "import time\n",
        "st.set_page_config(page_title=\"MBI Calculator\", page_icon=\"😀\",layout=\"centered\")\n",
        "\n",
        "st.title(\"project 9: BMI Calculator in Python\")\n",
        "st.markdown(\"\"\"\n",
        "## Calculate your body mass index (bmi) . Enter your **weight and height** \"\"\")\n",
        "\n",
        "col1, col2 = st.columns(2)\n",
        "with col1:\n",
        "    weight = st.number_input(\"weight (kg): \", min_value=1.0, format=\"%.2f\")\n",
        "with col2:\n",
        "    height= st.number_input(\"Height (m): \", min_value=1.0, format = \"%.2f\")\n",
        "\n",
        "    if height> 0 and weight >0:\n",
        "        bmi = weight / (height ** 2) # bmi formula\n",
        "        st.subheader(\"Your BMI is:\")\n",
        "        st.markdown(f\"{bmi:.2f}\",unsafe_allow_html=True)\n",
        "        if bmi < 18.5:\n",
        "            st.error(\"underweight\")\n",
        "        elif 18.5 <= bmi < 24.9:\n",
        "            st.success(\"normal height\")\n",
        "        elif 25 <= bmi < 29.9:\n",
        "            st.warning(\"overweight\")\n",
        "        else:\n",
        "            st.error(\"obesity 🚨\")\n",
        "    else:\n",
        "        st.info(\"please enter a valid weight and height\")\n",
        "\n"
      ]
    }
  ]
}